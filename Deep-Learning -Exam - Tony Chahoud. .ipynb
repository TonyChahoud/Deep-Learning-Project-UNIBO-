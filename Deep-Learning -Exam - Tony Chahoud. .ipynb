{
 "cells": [
  {
   "cell_type": "markdown",
   "metadata": {
    "id": "cAdE_w5Feghh"
   },
   "source": [
    "# Image Deblurring - June Exam - Tony Chahoud "
   ]
  },
  {
   "cell_type": "markdown",
   "metadata": {
    "id": "wCXXMeknnPtm"
   },
   "source": [
    "### Dataset creation - DO NOT MODIFY"
   ]
  },
  {
   "cell_type": "code",
   "execution_count": 1,
   "metadata": {
    "id": "QENETSnCelG8"
   },
   "outputs": [],
   "source": [
    "import tensorflow as tf \n",
    "import random\n",
    "from cv2 import GaussianBlur\n",
    "import numpy as np\n",
    "\n",
    "def getDataset():\n",
    "  (x_train, _), (x_test, _) = tf.keras.datasets.cifar10.load_data()\n",
    "  normalize = lambda x: x/x.max()\n",
    "  x_train = normalize(x_train)\n",
    "  x_test = normalize(x_test)\n",
    "  createBlurred = lambda arr: np.array([GaussianBlur(x, (5,5), ((random.random()*3)+1)) + (0.02*np.random.normal(0,1, (32, 32, 3))) for x in arr])\n",
    "  return (createBlurred(x_train), x_train), (createBlurred(x_test), x_test)"
   ]
  },
  {
   "cell_type": "markdown",
   "metadata": {
    "id": "HsZT8zIVKaQj"
   },
   "source": [
    "Downloading DATA \n",
    "\n"
   ]
  },
  {
   "cell_type": "code",
   "execution_count": 2,
   "metadata": {
    "colab": {
     "base_uri": "https://localhost:8080/"
    },
    "id": "fiZO8nrrHQtG",
    "outputId": "137ea038-8b58-4828-8363-85fc9b66140e"
   },
   "outputs": [
    {
     "name": "stdout",
     "output_type": "stream",
     "text": [
      "Downloading data from https://www.cs.toronto.edu/~kriz/cifar-10-python.tar.gz\n",
      "170500096/170498071 [==============================] - 3s 0us/step\n",
      "170508288/170498071 [==============================] - 3s 0us/step\n"
     ]
    }
   ],
   "source": [
    "(blurred_train, original_train), (blurred_test, original_test) = getDataset()"
   ]
  },
  {
   "cell_type": "markdown",
   "metadata": {
    "id": "UvkWLTqNJEJQ"
   },
   "source": [
    "SHape of the Train and Test data :\n"
   ]
  },
  {
   "cell_type": "code",
   "execution_count": 3,
   "metadata": {
    "colab": {
     "base_uri": "https://localhost:8080/"
    },
    "id": "ZectiOZgIJfD",
    "outputId": "f78e1062-d56a-4e98-94f0-d63f921e474e"
   },
   "outputs": [
    {
     "name": "stdout",
     "output_type": "stream",
     "text": [
      "Train Data shape: (50000, 32, 32, 3)\n",
      "Test Data shape: (10000, 32, 32, 3)\n"
     ]
    }
   ],
   "source": [
    "print(\"Train Data shape:\", blurred_train.shape)\n",
    "print(\"Test Data shape:\", blurred_test.shape)\n"
   ]
  },
  {
   "cell_type": "markdown",
   "metadata": {
    "id": "2ZXLN1_plYuz"
   },
   "source": [
    "As our  database is a large database of Blurred RGB Colored Photos;  where the train Data have 50,000 records and the test dataset has 10,000 records. Each record has hieght=32 x width=32 x 3(3 channels=RGB),So  it means we have 1024 pixels in the data and every pixel has an R-G-B value hence 3 color channels.\n",
    "\n",
    " So we choose a **Convolutional Autoencoder** Model to be trained in order to deblur images , as this Model  retain the spatial and the temporal  information of the images . \n",
    "\n"
   ]
  },
  {
   "cell_type": "code",
   "execution_count": 4,
   "metadata": {
    "id": "7YOYX42kp_J7"
   },
   "outputs": [],
   "source": [
    "#GEtting The shape of our Images(training or/Test),as  Each of the 32x32x3 values is a node in the input layer. \n",
    "\n",
    "_,h,w,c = blurred_train.shape"
   ]
  },
  {
   "cell_type": "markdown",
   "metadata": {
    "id": "88LoztnZwVsH"
   },
   "source": [
    "so, our Model should be trained in order to copy its input to output, by reducing error(MSE) and avoiding Overfitting , and that what the AutoEncoder can do, to end up with deblurred Images . and the 2 mains steps beside this model are :      \n",
    "1-***Encoder***: to  downsamples the data into lower dimensions.\n",
    "\n",
    "2-**Decoder**: to reconstructs the original data from the lower dimension representation.\n"
   ]
  },
  {
   "cell_type": "code",
   "execution_count": 5,
   "metadata": {
    "id": "4m8IZaptxwMO"
   },
   "outputs": [],
   "source": [
    "from tensorflow import keras\n",
    "from keras import layers, Model\n",
    "#\n",
    "#defining the input layer of our Modle \n",
    "\n",
    "input = layers.Input(shape=(h,w,c))"
   ]
  },
  {
   "cell_type": "markdown",
   "metadata": {
    "id": "dpHrBNPUs7bR"
   },
   "source": [
    "# **Network Architecture **\n",
    "\n",
    "Encoder part  reduce size of the image and the decoder part will increase it back . So  decoder makes reverses operations compare to the encoder.. "
   ]
  },
  {
   "cell_type": "code",
   "execution_count": 6,
   "metadata": {
    "id": "2M3YywoZuYAA"
   },
   "outputs": [],
   "source": [
    "\n",
    "# Encoder\n",
    "\n",
    "#CNN learns the weights of these Kernels on its own. \n",
    "#Conv2D =is a feature map to detect features rather than looking into every single pixel value.\n",
    "\n",
    "#the 32X32 in 3 Cahnnels Input , are concoluted by 64 Learned filters in the first layer of the Encoder\n",
    "#out-Channels Become 64  \n",
    "x1=layers.Conv2D(64, (3, 3), activation=\"relu\", padding=\"same\")(input)\n",
    "\n",
    "#Pooling layer decreases the sizes of the RGB image by using a Max pooling function\n",
    "#it summarize the presence of features in patches of the feature map\n",
    "U1 = layers.MaxPooling2D((2, 2), padding=\"same\")(x1)\n",
    "\n",
    "# decreasing our out_channels to 32.\n",
    "\n",
    "x2 = layers.Conv2D(32, (3, 3), activation=\"relu\", padding=\"same\")(U1)\n",
    "#The Second Doun Sampling layer ( 2nd Max pooling )\n",
    "H = layers.MaxPooling2D((2, 2), padding=\"same\")(x2)\n"
   ]
  },
  {
   "cell_type": "markdown",
   "metadata": {
    "id": "UPpt1S_d04oq"
   },
   "source": [
    "Decoder is also a sequential model. It accepts the encoding and tries to reconstruct it . Then, it stacks it into a 32x32x3 matrix through the Dense layer. The final Reshape layer will reshape it into an image."
   ]
  },
  {
   "cell_type": "code",
   "execution_count": 7,
   "metadata": {
    "id": "OdiN5ktF4sEm"
   },
   "outputs": [],
   "source": [
    "# Deocder\n",
    "\n",
    "#keep on increasing the dimensionality from 32 till we get 64 out_channels by the last convolution layer\n",
    "\n",
    "#Conv2DTranspose have an opposite role of the pooling function\n",
    "\n",
    "x3 = layers.Conv2DTranspose(32, (3, 3), strides=2, activation=\"relu\", padding=\"same\")(H)\n",
    "\n",
    "x4 = layers.Conv2DTranspose(64, (3, 3), strides=2, activation=\"relu\", padding=\"same\")(x3)\n",
    "\n",
    "#As the outout is not [0 1] as it is RGB and not gray , \"tanh\" Instead of sigmoid\n",
    "#As tanh activation function leads to strong gradients and big learning steps, .\n",
    "\n",
    "r = layers.Conv2D(3, (3, 3), activation=\"tanh\", padding=\"same\")(x4)\n",
    "\n",
    "\n",
    "# Finally, we end by  3 output-channel in order to reconstruct the original image.\n",
    "\n",
    "\n"
   ]
  },
  {
   "cell_type": "markdown",
   "metadata": {
    "id": "pF0SSOu84ZCD"
   },
   "source": [
    "we'll combine both layers into the final **AUTOENCODER** model\n"
   ]
  },
  {
   "cell_type": "code",
   "execution_count": 30,
   "metadata": {
    "colab": {
     "base_uri": "https://localhost:8080/"
    },
    "id": "bVq-1-H43OhW",
    "outputId": "39b2613c-fab0-4b98-b51d-a5e3579ac043"
   },
   "outputs": [
    {
     "name": "stdout",
     "output_type": "stream",
     "text": [
      "our network architecture\n",
      "Model: \"model_3\"\n",
      "_________________________________________________________________\n",
      " Layer (type)                Output Shape              Param #   \n",
      "=================================================================\n",
      " input_1 (InputLayer)        [(None, 32, 32, 3)]       0         \n",
      "                                                                 \n",
      " conv2d (Conv2D)             (None, 32, 32, 64)        1792      \n",
      "                                                                 \n",
      " max_pooling2d (MaxPooling2D  (None, 16, 16, 64)       0         \n",
      " )                                                               \n",
      "                                                                 \n",
      " conv2d_1 (Conv2D)           (None, 16, 16, 32)        18464     \n",
      "                                                                 \n",
      " max_pooling2d_1 (MaxPooling  (None, 8, 8, 32)         0         \n",
      " 2D)                                                             \n",
      "                                                                 \n",
      " conv2d_transpose (Conv2DTra  (None, 16, 16, 32)       9248      \n",
      " nspose)                                                         \n",
      "                                                                 \n",
      " conv2d_transpose_1 (Conv2DT  (None, 32, 32, 64)       18496     \n",
      " ranspose)                                                       \n",
      "                                                                 \n",
      " conv2d_2 (Conv2D)           (None, 32, 32, 3)         1731      \n",
      "                                                                 \n",
      "=================================================================\n",
      "Total params: 49,731\n",
      "Trainable params: 49,731\n",
      "Non-trainable params: 0\n",
      "_________________________________________________________________\n"
     ]
    }
   ],
   "source": [
    "#Now we need to compile our MOdel .by Providing :an Adam optimizer and Mean Squared Error .\n",
    "\n",
    "autoencoder = Model(input, r)\n",
    "#  'adam'  as defalult is [adam = Adam(lr=0.001, beta_1=0.9, beta_2=0.999, epsilon=1e-08)]\n",
    "\n",
    "# Mean-Squared-Error used to calculate the dissimilarity between the original pixel(values) and the one predicted by the network\n",
    "\n",
    "autoencoder.compile(optimizer=\"adam\", loss=\"mse\",metrics=\"accuracy\")\n",
    "\n",
    "#Saving the weights of the Model \n",
    "autoencoder.save_weights\n",
    "autoencoder.save\n",
    "\n",
    "print (\"our network architecture\")\n",
    "\n",
    "autoencoder.summary()"
   ]
  },
  {
   "cell_type": "markdown",
   "metadata": {
    "id": "r06clqy78pCN"
   },
   "source": [
    "\n",
    "We have total control over the architecture of the autoencoder. The Model can be made very powerful by increasing the number of layers, nodes per layer wich need to high parameters . \n",
    "\n",
    "I end Up with this Autoencoder where the image is reconstructed on the same Size as the input ,where the Autoencoder Model weights are derived over :\n",
    "-  2 Convolution layer + 2 Max Pooling at Encoder \n",
    "-  2 Convolutional layers(Up sampling Effect)  at the Decoder\n",
    "\n",
    "Our Model can be summarized by the following "
   ]
  },
  {
   "cell_type": "markdown",
   "metadata": {
    "id": "TIP91-WU7_TK"
   },
   "source": [
    "![testtttttto.png](data:image/png;base64,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)"
   ]
  },
  {
   "cell_type": "markdown",
   "metadata": {
    "id": "oTa7hOrL04oz"
   },
   "source": [
    "**Model Discussion:**\n",
    " \n",
    "Increasing these hyperparameters will let the autoencoder to learn more complex codings. But we should be careful to not make it too powerful. Otherwise the autoencoder will simply learn to copy its inputs to the output by overfitting without being able to generalize to new instances, which is not what we want.\n",
    "\n",
    "and in our Model, overfiting didnt take place , even with high numbers of epochs where an improving according the validation loss took place .... By the N\"50 Epochs ,we reach a minimal MSE (about 0.0037) \n",
    "\n",
    "\n",
    "**Why this Model ?**\n",
    "\n",
    "I trained the same autoencoder model but with more Paramters ( about 120.000) where an additional conv-layer(32) is added to the encoder(3 layers in Total per emcoder) and another one(32) to the Decoder(3 layers in Total per Decoder) , Same improvement , No Overfitiing , but the MSE reduction was too slow and by the 50 epchs was Above 0.004.\n",
    "\n",
    "The good part is that Overfitting was also avoided , by Training A COmplex Autoencoder(about 8 Downsampling Convolutional layers and 8 Upsampling ones)  with the same previous Concept but with huge number of parameter 500K to 600K,good Accuracy was achieved but the Ideal MSE wasn't achieved even for more than 100 epochs...\n",
    "\n",
    "\n",
    "That why I end Up with this simplest AutoEncodrer Model .\n",
    " "
   ]
  },
  {
   "cell_type": "code",
   "execution_count": 9,
   "metadata": {
    "colab": {
     "base_uri": "https://localhost:8080/"
    },
    "id": "Up9K-6ZvT8GG",
    "outputId": "352caa9a-9048-4b72-f973-607e6207393a",
    "scrolled": true
   },
   "outputs": [
    {
     "name": "stdout",
     "output_type": "stream",
     "text": [
      "Epoch 1/10\n",
      "391/391 [==============================] - 19s 19ms/step - loss: 0.0204 - accuracy: 0.5396 - val_loss: 0.0075 - val_accuracy: 0.6760\n",
      "Epoch 2/10\n",
      "391/391 [==============================] - 7s 18ms/step - loss: 0.0065 - accuracy: 0.7545 - val_loss: 0.0058 - val_accuracy: 0.7950\n",
      "Epoch 3/10\n",
      "391/391 [==============================] - 7s 19ms/step - loss: 0.0056 - accuracy: 0.7963 - val_loss: 0.0054 - val_accuracy: 0.8026\n",
      "Epoch 4/10\n",
      "391/391 [==============================] - 7s 18ms/step - loss: 0.0053 - accuracy: 0.8041 - val_loss: 0.0052 - val_accuracy: 0.8016\n",
      "Epoch 5/10\n",
      "391/391 [==============================] - 7s 18ms/step - loss: 0.0051 - accuracy: 0.8081 - val_loss: 0.0050 - val_accuracy: 0.8120\n",
      "Epoch 6/10\n",
      "391/391 [==============================] - 7s 18ms/step - loss: 0.0050 - accuracy: 0.8112 - val_loss: 0.0049 - val_accuracy: 0.8058\n",
      "Epoch 7/10\n",
      "391/391 [==============================] - 7s 18ms/step - loss: 0.0049 - accuracy: 0.8137 - val_loss: 0.0048 - val_accuracy: 0.8206\n",
      "Epoch 8/10\n",
      "391/391 [==============================] - 7s 18ms/step - loss: 0.0048 - accuracy: 0.8156 - val_loss: 0.0048 - val_accuracy: 0.8224\n",
      "Epoch 9/10\n",
      "391/391 [==============================] - 7s 18ms/step - loss: 0.0047 - accuracy: 0.8167 - val_loss: 0.0046 - val_accuracy: 0.8171\n",
      "Epoch 10/10\n",
      "391/391 [==============================] - 7s 18ms/step - loss: 0.0046 - accuracy: 0.8177 - val_loss: 0.0047 - val_accuracy: 0.8266\n"
     ]
    }
   ],
   "source": [
    "#Validation of the Test-Data through the Trained Model \n",
    "Hist=autoencoder.fit(\n",
    "    blurred_train, original_train,\n",
    "    epochs=10,\n",
    "    batch_size=128,\n",
    "    shuffle=True, \n",
    "    validation_data=(blurred_test, original_test)\n",
    ")"
   ]
  },
  {
   "cell_type": "markdown",
   "metadata": {
    "id": "fZKYh_lG4SDS"
   },
   "source": [
    "\n",
    "So , As we see dring the First 10 Epochs , there is a clear improvement in The MSE\n",
    "\n",
    "after that , **The training took MORE TIME** with a slight improvemnt concerning the error .\n",
    "\n"
   ]
  },
  {
   "cell_type": "code",
   "execution_count": 11,
   "metadata": {
    "colab": {
     "base_uri": "https://localhost:8080/"
    },
    "id": "0oYILiFvPCLM",
    "outputId": "5e06680c-6483-48fd-ca27-5d98c2397ed9",
    "scrolled": false
   },
   "outputs": [
    {
     "name": "stdout",
     "output_type": "stream",
     "text": [
      "Epoch 1/62\n",
      "391/391 [==============================] - 7s 18ms/step - loss: 0.0043 - accuracy: 0.8230 - val_loss: 0.0042 - val_accuracy: 0.8133\n",
      "Epoch 2/62\n",
      "391/391 [==============================] - 7s 17ms/step - loss: 0.0042 - accuracy: 0.8226 - val_loss: 0.0042 - val_accuracy: 0.8201\n",
      "Epoch 3/62\n",
      "391/391 [==============================] - 7s 17ms/step - loss: 0.0042 - accuracy: 0.8237 - val_loss: 0.0042 - val_accuracy: 0.8201\n",
      "Epoch 4/62\n",
      "391/391 [==============================] - 7s 17ms/step - loss: 0.0042 - accuracy: 0.8234 - val_loss: 0.0043 - val_accuracy: 0.8126\n",
      "Epoch 5/62\n",
      "391/391 [==============================] - 7s 17ms/step - loss: 0.0042 - accuracy: 0.8236 - val_loss: 0.0041 - val_accuracy: 0.8285\n",
      "Epoch 6/62\n",
      "391/391 [==============================] - 7s 18ms/step - loss: 0.0041 - accuracy: 0.8239 - val_loss: 0.0041 - val_accuracy: 0.8171\n",
      "Epoch 7/62\n",
      "391/391 [==============================] - 7s 18ms/step - loss: 0.0041 - accuracy: 0.8241 - val_loss: 0.0041 - val_accuracy: 0.8331\n",
      "Epoch 8/62\n",
      "391/391 [==============================] - 7s 18ms/step - loss: 0.0041 - accuracy: 0.8248 - val_loss: 0.0040 - val_accuracy: 0.8226\n",
      "Epoch 9/62\n",
      "391/391 [==============================] - 7s 18ms/step - loss: 0.0041 - accuracy: 0.8242 - val_loss: 0.0040 - val_accuracy: 0.8257\n",
      "Epoch 10/62\n",
      "391/391 [==============================] - 7s 18ms/step - loss: 0.0041 - accuracy: 0.8248 - val_loss: 0.0041 - val_accuracy: 0.8285\n",
      "Epoch 11/62\n",
      "391/391 [==============================] - 7s 17ms/step - loss: 0.0040 - accuracy: 0.8247 - val_loss: 0.0041 - val_accuracy: 0.8334\n",
      "Epoch 12/62\n",
      "391/391 [==============================] - 7s 18ms/step - loss: 0.0040 - accuracy: 0.8248 - val_loss: 0.0040 - val_accuracy: 0.8158\n",
      "Epoch 13/62\n",
      "391/391 [==============================] - 7s 17ms/step - loss: 0.0040 - accuracy: 0.8245 - val_loss: 0.0040 - val_accuracy: 0.8272\n",
      "Epoch 14/62\n",
      "391/391 [==============================] - 7s 17ms/step - loss: 0.0040 - accuracy: 0.8254 - val_loss: 0.0040 - val_accuracy: 0.8323\n",
      "Epoch 15/62\n",
      "391/391 [==============================] - 7s 17ms/step - loss: 0.0040 - accuracy: 0.8253 - val_loss: 0.0040 - val_accuracy: 0.8238\n",
      "Epoch 16/62\n",
      "391/391 [==============================] - 7s 17ms/step - loss: 0.0040 - accuracy: 0.8259 - val_loss: 0.0040 - val_accuracy: 0.8211\n",
      "Epoch 17/62\n",
      "391/391 [==============================] - 7s 17ms/step - loss: 0.0040 - accuracy: 0.8257 - val_loss: 0.0039 - val_accuracy: 0.8322\n",
      "Epoch 18/62\n",
      "391/391 [==============================] - 7s 17ms/step - loss: 0.0040 - accuracy: 0.8257 - val_loss: 0.0040 - val_accuracy: 0.8228\n",
      "Epoch 19/62\n",
      "391/391 [==============================] - 7s 17ms/step - loss: 0.0040 - accuracy: 0.8256 - val_loss: 0.0039 - val_accuracy: 0.8276\n",
      "Epoch 20/62\n",
      "391/391 [==============================] - 7s 17ms/step - loss: 0.0039 - accuracy: 0.8256 - val_loss: 0.0039 - val_accuracy: 0.8250\n",
      "Epoch 21/62\n",
      "391/391 [==============================] - 7s 17ms/step - loss: 0.0039 - accuracy: 0.8260 - val_loss: 0.0039 - val_accuracy: 0.8226\n",
      "Epoch 22/62\n",
      "391/391 [==============================] - 7s 17ms/step - loss: 0.0039 - accuracy: 0.8258 - val_loss: 0.0039 - val_accuracy: 0.8153\n",
      "Epoch 23/62\n",
      "391/391 [==============================] - 7s 17ms/step - loss: 0.0039 - accuracy: 0.8261 - val_loss: 0.0039 - val_accuracy: 0.8153\n",
      "Epoch 24/62\n",
      "391/391 [==============================] - 7s 18ms/step - loss: 0.0039 - accuracy: 0.8259 - val_loss: 0.0039 - val_accuracy: 0.8144\n",
      "Epoch 25/62\n",
      "391/391 [==============================] - 7s 17ms/step - loss: 0.0039 - accuracy: 0.8264 - val_loss: 0.0039 - val_accuracy: 0.8309\n",
      "Epoch 26/62\n",
      "391/391 [==============================] - 7s 17ms/step - loss: 0.0039 - accuracy: 0.8265 - val_loss: 0.0038 - val_accuracy: 0.8284\n",
      "Epoch 27/62\n",
      "391/391 [==============================] - 7s 17ms/step - loss: 0.0039 - accuracy: 0.8265 - val_loss: 0.0038 - val_accuracy: 0.8344\n",
      "Epoch 28/62\n",
      "391/391 [==============================] - 7s 17ms/step - loss: 0.0039 - accuracy: 0.8262 - val_loss: 0.0039 - val_accuracy: 0.8238\n",
      "Epoch 29/62\n",
      "391/391 [==============================] - 7s 17ms/step - loss: 0.0039 - accuracy: 0.8264 - val_loss: 0.0039 - val_accuracy: 0.8236\n",
      "Epoch 30/62\n",
      "391/391 [==============================] - 7s 17ms/step - loss: 0.0039 - accuracy: 0.8264 - val_loss: 0.0038 - val_accuracy: 0.8152\n",
      "Epoch 31/62\n",
      "391/391 [==============================] - 7s 17ms/step - loss: 0.0039 - accuracy: 0.8269 - val_loss: 0.0039 - val_accuracy: 0.8272\n",
      "Epoch 32/62\n",
      "391/391 [==============================] - 7s 17ms/step - loss: 0.0039 - accuracy: 0.8269 - val_loss: 0.0038 - val_accuracy: 0.8294\n",
      "Epoch 33/62\n",
      "391/391 [==============================] - 7s 17ms/step - loss: 0.0038 - accuracy: 0.8273 - val_loss: 0.0038 - val_accuracy: 0.8213\n",
      "Epoch 34/62\n",
      "391/391 [==============================] - 7s 17ms/step - loss: 0.0038 - accuracy: 0.8270 - val_loss: 0.0038 - val_accuracy: 0.8102\n",
      "Epoch 35/62\n",
      "391/391 [==============================] - 7s 17ms/step - loss: 0.0038 - accuracy: 0.8276 - val_loss: 0.0038 - val_accuracy: 0.8328\n",
      "Epoch 36/62\n",
      "391/391 [==============================] - 7s 17ms/step - loss: 0.0038 - accuracy: 0.8269 - val_loss: 0.0038 - val_accuracy: 0.8299\n",
      "Epoch 37/62\n",
      "391/391 [==============================] - 7s 17ms/step - loss: 0.0038 - accuracy: 0.8275 - val_loss: 0.0038 - val_accuracy: 0.8279\n",
      "Epoch 38/62\n",
      "391/391 [==============================] - 7s 17ms/step - loss: 0.0038 - accuracy: 0.8274 - val_loss: 0.0038 - val_accuracy: 0.8304\n",
      "Epoch 39/62\n",
      "391/391 [==============================] - 7s 17ms/step - loss: 0.0038 - accuracy: 0.8278 - val_loss: 0.0038 - val_accuracy: 0.8265\n",
      "Epoch 40/62\n",
      "391/391 [==============================] - 7s 17ms/step - loss: 0.0038 - accuracy: 0.8276 - val_loss: 0.0038 - val_accuracy: 0.8293\n",
      "Epoch 41/62\n",
      "391/391 [==============================] - 7s 17ms/step - loss: 0.0038 - accuracy: 0.8271 - val_loss: 0.0038 - val_accuracy: 0.8021\n",
      "Epoch 42/62\n",
      "391/391 [==============================] - 7s 18ms/step - loss: 0.0038 - accuracy: 0.8277 - val_loss: 0.0038 - val_accuracy: 0.8348\n",
      "Epoch 43/62\n",
      "391/391 [==============================] - 7s 17ms/step - loss: 0.0038 - accuracy: 0.8284 - val_loss: 0.0038 - val_accuracy: 0.8318\n",
      "Epoch 44/62\n",
      "391/391 [==============================] - 7s 17ms/step - loss: 0.0038 - accuracy: 0.8282 - val_loss: 0.0038 - val_accuracy: 0.8204\n",
      "Epoch 45/62\n",
      "391/391 [==============================] - 7s 17ms/step - loss: 0.0038 - accuracy: 0.8280 - val_loss: 0.0038 - val_accuracy: 0.8318\n",
      "Epoch 46/62\n",
      "391/391 [==============================] - 7s 17ms/step - loss: 0.0038 - accuracy: 0.8291 - val_loss: 0.0038 - val_accuracy: 0.8312\n",
      "Epoch 47/62\n",
      "391/391 [==============================] - 7s 17ms/step - loss: 0.0038 - accuracy: 0.8289 - val_loss: 0.0038 - val_accuracy: 0.8321\n",
      "Epoch 48/62\n",
      "391/391 [==============================] - 7s 17ms/step - loss: 0.0038 - accuracy: 0.8288 - val_loss: 0.0037 - val_accuracy: 0.8360\n",
      "Epoch 49/62\n",
      "391/391 [==============================] - 7s 17ms/step - loss: 0.0038 - accuracy: 0.8286 - val_loss: 0.0037 - val_accuracy: 0.8291\n",
      "Epoch 50/62\n",
      "391/391 [==============================] - 7s 18ms/step - loss: 0.0038 - accuracy: 0.8283 - val_loss: 0.0038 - val_accuracy: 0.8187\n",
      "Epoch 51/62\n",
      "391/391 [==============================] - 7s 17ms/step - loss: 0.0038 - accuracy: 0.8285 - val_loss: 0.0038 - val_accuracy: 0.8214\n",
      "Epoch 52/62\n",
      "391/391 [==============================] - 7s 17ms/step - loss: 0.0038 - accuracy: 0.8288 - val_loss: 0.0038 - val_accuracy: 0.8253\n",
      "Epoch 53/62\n",
      "391/391 [==============================] - 7s 17ms/step - loss: 0.0037 - accuracy: 0.8291 - val_loss: 0.0038 - val_accuracy: 0.8311\n",
      "Epoch 54/62\n",
      "391/391 [==============================] - 7s 17ms/step - loss: 0.0038 - accuracy: 0.8287 - val_loss: 0.0038 - val_accuracy: 0.8376\n",
      "Epoch 55/62\n",
      "391/391 [==============================] - 7s 17ms/step - loss: 0.0037 - accuracy: 0.8288 - val_loss: 0.0037 - val_accuracy: 0.8344\n",
      "Epoch 56/62\n",
      "391/391 [==============================] - 7s 17ms/step - loss: 0.0037 - accuracy: 0.8287 - val_loss: 0.0037 - val_accuracy: 0.8310\n",
      "Epoch 57/62\n",
      "391/391 [==============================] - 7s 17ms/step - loss: 0.0037 - accuracy: 0.8292 - val_loss: 0.0037 - val_accuracy: 0.8291\n",
      "Epoch 58/62\n",
      "391/391 [==============================] - 7s 17ms/step - loss: 0.0037 - accuracy: 0.8287 - val_loss: 0.0037 - val_accuracy: 0.8345\n",
      "Epoch 59/62\n",
      "391/391 [==============================] - 7s 17ms/step - loss: 0.0037 - accuracy: 0.8292 - val_loss: 0.0037 - val_accuracy: 0.8274\n",
      "Epoch 60/62\n",
      "391/391 [==============================] - 7s 17ms/step - loss: 0.0037 - accuracy: 0.8293 - val_loss: 0.0037 - val_accuracy: 0.8297\n",
      "Epoch 61/62\n",
      "391/391 [==============================] - 7s 17ms/step - loss: 0.0037 - accuracy: 0.8291 - val_loss: 0.0037 - val_accuracy: 0.8335\n",
      "Epoch 62/62\n",
      "391/391 [==============================] - 7s 18ms/step - loss: 0.0037 - accuracy: 0.8292 - val_loss: 0.0037 - val_accuracy: 0.8354\n"
     ]
    }
   ],
   "source": [
    "Hist=autoencoder.fit(\n",
    "    blurred_train, original_train,\n",
    "    epochs=62,\n",
    "    batch_size=128,\n",
    "    shuffle=True,\n",
    "    validation_data=(blurred_test, original_test)\n",
    ")"
   ]
  },
  {
   "cell_type": "markdown",
   "metadata": {
    "id": "qE4F0EaPHXpG"
   },
   "source": [
    "0.0037 MSE the best achieved by this model after the 70s Epochs (10 was trained firstly ,and the others 62 Above ,to be \n",
    "in total  72 )..\n",
    "\n",
    "same for Accuracy , where an improvement is showed throughout the  Epocs "
   ]
  },
  {
   "cell_type": "code",
   "execution_count": 12,
   "metadata": {
    "id": "X5xVeGyszQlx"
   },
   "outputs": [],
   "source": [
    "import matplotlib.pyplot as plt"
   ]
  },
  {
   "cell_type": "code",
   "execution_count": 13,
   "metadata": {
    "colab": {
     "base_uri": "https://localhost:8080/"
    },
    "id": "8XXxxTqqOfdg",
    "outputId": "166e8f81-289b-4669-afe5-8027acf939e7"
   },
   "outputs": [
    {
     "name": "stdout",
     "output_type": "stream",
     "text": [
      "dict_keys(['loss', 'accuracy', 'val_loss', 'val_accuracy'])\n"
     ]
    }
   ],
   "source": [
    "print(Hist.history.keys())"
   ]
  },
  {
   "cell_type": "code",
   "execution_count": 14,
   "metadata": {
    "id": "iSX7rmP9yKQ6"
   },
   "outputs": [],
   "source": [
    "def plot_History(autoencoder_History,Keys): \n",
    " n,val_n= Keys \n",
    " #fig, ax = plt.subplots( figsize=(10,10))\n",
    " plt.plot(autoencoder_History.history[n]) \n",
    " plt.plot(autoencoder_History.history[val_n]) \n",
    "\n",
    " plt.ylabel(n)\n",
    " plt.xlabel('epoch')\n",
    " plt.legend(['train Data', 'test Data'], loc='upper left') \n",
    " \n",
    " plt.show()"
   ]
  },
  {
   "cell_type": "code",
   "execution_count": 31,
   "metadata": {
    "colab": {
     "base_uri": "https://localhost:8080/",
     "height": 279
    },
    "id": "dr3EBdRMF50U",
    "outputId": "adc130d3-3959-48d8-d07e-721578a1dd51"
   },
   "outputs": [
    {
     "data": {
      "image/png": "[encoded data removed]",
      "text/plain": [
       "<Figure size 432x288 with 1 Axes>"
      ]
     },
     "metadata": {
      "needs_background": "light"
     },
     "output_type": "display_data"
    }
   ],
   "source": [
    "\n",
    "plot_History(Hist,['loss','val_loss'])"
   ]
  },
  {
   "cell_type": "markdown",
   "metadata": {
    "id": "OtlFcjI_M9lU"
   },
   "source": [
    "                     NO OVERFITTING\n"
   ]
  },
  {
   "cell_type": "code",
   "execution_count": 32,
   "metadata": {
    "colab": {
     "base_uri": "https://localhost:8080/",
     "height": 298
    },
    "id": "Kvae2t4ryghj",
    "outputId": "f2c33937-ac06-4e38-9a48-6c78f24a3d54"
   },
   "outputs": [
    {
     "name": "stderr",
     "output_type": "stream",
     "text": [
      "Clipping input data to the valid range for imshow with RGB data ([0..1] for floats or [0..255] for integers).\n"
     ]
    },
    {
     "data": {
      "image/png": "[encoded data removed]",
      "text/plain": [
       "<Figure size 432x288 with 6 Axes>"
      ]
     },
     "metadata": {
      "needs_background": "light"
     },
     "output_type": "display_data"
    }
   ],
   "source": [
    "#from matplotlib import pyplot as plt\n",
    "\n",
    "predictions = autoencoder.predict(blurred_test)\n",
    "plt.subplot(2,3,1)\n",
    "plt.title(\"Original Image \")\n",
    "plt.imshow(original_test[25])\n",
    "plt.subplot(2,3,2)\n",
    "plt.title(\"Noising Image \")\n",
    "plt.imshow(blurred_test[25])\n",
    "plt.subplot(2,3,3)\n",
    "plt.title(\"Result of Deblurring  \")\n",
    "plt.imshow(predictions[25])\n",
    "plt.subplot(2,3,4)\n",
    "plt.imshow(original_test[45])\n",
    "plt.subplot(2,3,5)\n",
    "plt.imshow(blurred_test[45])\n",
    "plt.subplot(2,3,6)\n",
    "plt.imshow(predictions[45])\n",
    "plt.show()\n",
    "\n",
    "\n"
   ]
  },
  {
   "cell_type": "markdown",
   "metadata": {
    "id": "UvOouuoJHDTF"
   },
   "source": [
    "As we can see the autoencoder did  their job  By removing the Blurring from the Noised image. Despite the improvement in image clarity (less image loss), but there isn’t any improve in the image resolution wish already is noised. \n",
    "\n",
    "\n",
    "Many other deep Pre-Trained  learning architectures Deblurr the Noised images such that the result is very close to the ground truth images with minimal loss of detail.Most of them are based on the Convolutional  implementation (like :1- the pre-Trained RDENET Autoencoder wish skip Layers .\n",
    "2-Multi-level Wavelet CNN wish is based on the U.Net architecture ...)"
   ]
  }
 ],
 "metadata": {
  "accelerator": "GPU",
  "colab": {
   "collapsed_sections": [],
   "name": "final (1).ipynb",
   "provenance": []
  },
  "kernelspec": {
   "display_name": "Python 3",
   "language": "python",
   "name": "python3"
  },
  "language_info": {
   "codemirror_mode": {
    "name": "ipython",
    "version": 3
   },
   "file_extension": ".py",
   "mimetype": "text/x-python",
   "name": "python",
   "nbconvert_exporter": "python",
   "pygments_lexer": "ipython3",
   "version": "3.8.8"
  }
 },
 "nbformat": 4,
 "nbformat_minor": 1
}
